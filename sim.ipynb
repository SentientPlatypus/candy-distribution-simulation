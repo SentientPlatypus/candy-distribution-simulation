{
 "cells": [
  {
   "attachments": {},
   "cell_type": "markdown",
   "metadata": {},
   "source": [
    "Import the necessary modules"
   ]
  },
  {
   "cell_type": "code",
   "execution_count": 1,
   "metadata": {},
   "outputs": [],
   "source": [
    "import random\n",
    "import statistics\n",
    "import matplotlib.pyplot as plt\n"
   ]
  },
  {
   "attachments": {},
   "cell_type": "markdown",
   "metadata": {},
   "source": [
    "Make helper functions"
   ]
  },
  {
   "cell_type": "code",
   "execution_count": 2,
   "metadata": {},
   "outputs": [],
   "source": [
    "def pickedCandy() -> bool:\n",
    "    return random.randint(0, 1) == 1\n",
    "\n",
    "def getProportionAccepted(l:list) -> float:\n",
    "    return (sum(1.0 for element in l if element) / len(l))\n",
    "\n",
    "def getProportionDiff(list1:list, list2:list) -> float:\n",
    "    return getProportionAccepted(list2) - getProportionAccepted(list1)\n"
   ]
  },
  {
   "attachments": {},
   "cell_type": "markdown",
   "metadata": {},
   "source": [
    "Define classes for each person. In this case, Gio, Gene, and Teddy. Each class has the total number of males/females interacted with across the two outfit treatments. Make the constructor initialize a list for each of these groups. This list should be a list of booleans, True if accepted candy, False if declined, with the size corresponding to the number of people interacted with. These classes also have functionality to compare the proportion differences between boys and girls. This method is only called when testing for significance in gender differences\n",
    "\n"
   ]
  },
  {
   "cell_type": "code",
   "execution_count": 3,
   "metadata": {},
   "outputs": [],
   "source": [
    "class GIO():\n",
    "    CRUSTY_N_GIRLS = 10\n",
    "    CRUSTY_N_BOYS = 10\n",
    "    NICE_N_GIRLS = 10\n",
    "    NICE_N_BOYS = 10\n",
    "\n",
    "    def __init__(self) -> None:\n",
    "        self.crustygirls = [pickedCandy() for a in range(GIO.CRUSTY_N_GIRLS)]\n",
    "        self.crustyboys = [pickedCandy() for a in range(GIO.CRUSTY_N_BOYS)]\n",
    "        self.nicegirls = [pickedCandy() for a in range(GIO.NICE_N_GIRLS)]\n",
    "        self.niceboys = [pickedCandy() for a in range(GIO.NICE_N_BOYS)]\n",
    "\n",
    "    def compare_proportion_differences(self) ->float:\n",
    "        return getProportionDiff(self.crustyboys, self.niceboys) - getProportionDiff(self.crustygirls, self.nicegirls)\n",
    "   \n",
    "\n",
    "class GENE():\n",
    "    CRUSTY_N_GIRLS = 10\n",
    "    CRUSTY_N_BOYS = 10\n",
    "    NICE_N_GIRLS = 10\n",
    "    NICE_N_BOYS = 10\n",
    "\n",
    "    def __init__(self) -> None:\n",
    "        self.crustygirls = [pickedCandy() for a in range(GIO.CRUSTY_N_GIRLS)]\n",
    "        self.crustyboys = [pickedCandy() for a in range(GIO.CRUSTY_N_BOYS)]\n",
    "        self.nicegirls = [pickedCandy() for a in range(GIO.NICE_N_GIRLS)]\n",
    "        self.niceboys = [pickedCandy() for a in range(GIO.NICE_N_BOYS)]\n",
    "\n",
    "    def compare_proportion_differences(self) ->float:\n",
    "        return getProportionDiff(self.crustyboys, self.niceboys) - getProportionDiff(self.crustygirls, self.nicegirls)\n",
    "\n",
    "\n",
    "class TEDDY():\n",
    "    CRUSTY_N_GIRLS = 10\n",
    "    CRUSTY_N_BOYS = 10\n",
    "    NICE_N_GIRLS = 10\n",
    "    NICE_N_BOYS = 10\n",
    "\n",
    "    def __init__(self) -> None:\n",
    "        self.crustygirls = [pickedCandy() for a in range(GIO.CRUSTY_N_GIRLS)]\n",
    "        self.crustyboys = [pickedCandy() for a in range(GIO.CRUSTY_N_BOYS)]\n",
    "        self.nicegirls = [pickedCandy() for a in range(GIO.NICE_N_GIRLS)]\n",
    "        self.niceboys = [pickedCandy() for a in range(GIO.NICE_N_BOYS)]\n",
    "\n",
    "    def compare_proportion_differences(self) ->float:\n",
    "        return getProportionDiff(self.crustyboys, self.niceboys) - getProportionDiff(self.crustygirls, self.nicegirls)\n"
   ]
  },
  {
   "attachments": {},
   "cell_type": "markdown",
   "metadata": {},
   "source": [
    "Now, I determined the number of trials I would like to do. In other words, the amount of times you want to repeat the component of the simulation"
   ]
  },
  {
   "cell_type": "code",
   "execution_count": 4,
   "metadata": {},
   "outputs": [],
   "source": [
    "HOW_MANY_RUNS = 50000\n"
   ]
  },
  {
   "attachments": {},
   "cell_type": "markdown",
   "metadata": {},
   "source": [
    "Now, we can write the code for determining significance of different outfits. We ignore the stratification of boys and girls, and treat them as one group (notice we concatenate their lists). We take the differences between the proportion of people who accepted with crusty fits and nice fits, and we take the average of this value across the three of us. We append it to a list, and this repeats N times"
   ]
  },
  {
   "cell_type": "code",
   "execution_count": 5,
   "metadata": {},
   "outputs": [],
   "source": [
    "def initial_sim():\n",
    "    results = []\n",
    "    for x in range(HOW_MANY_RUNS):\n",
    "\n",
    "        ##Take the difference in proportion accepted between crusty and nice for each persion, ignoring whether they are boys or girls. \n",
    "        ##then, take the average difference\n",
    "        differences = []\n",
    "        gio = GIO()\n",
    "        differences.append(\n",
    "            getProportionAccepted(gio.crustyboys + gio.crustygirls) \n",
    "            - getProportionAccepted(gio.niceboys + gio.nicegirls)\n",
    "        )\n",
    "\n",
    "        gene = GENE()\n",
    "        differences.append(\n",
    "            getProportionAccepted(gene.crustyboys + gene.crustygirls) \n",
    "            - getProportionAccepted(gene.niceboys + gene.nicegirls)\n",
    "        )\n",
    "\n",
    "        teddy = TEDDY()\n",
    "        differences.append(\n",
    "            getProportionAccepted(teddy.crustyboys + teddy.crustygirls) \n",
    "            - getProportionAccepted(teddy.niceboys + teddy.nicegirls)\n",
    "        )\n",
    "\n",
    "        results.append(statistics.mean(differences))\n",
    "\n",
    "    return results\n"
   ]
  },
  {
   "attachments": {},
   "cell_type": "markdown",
   "metadata": {},
   "source": [
    "To determine statistical significane of gender, we do the same thing, but for each of us, we get the difference in the difference of proportions etween boys and girls. Then we take the average across th three of us."
   ]
  },
  {
   "cell_type": "code",
   "execution_count": 6,
   "metadata": {},
   "outputs": [],
   "source": [
    "def sim_for_gender_diff():\n",
    "    results = []\n",
    "    for x in range(HOW_MANY_RUNS):\n",
    "        gio = GIO()\n",
    "        gio_diff = gio.compare_proportion_differences()\n",
    "\n",
    "        gene = GENE()\n",
    "        gene_diff = gene.compare_proportion_differences()\n",
    "\n",
    "        teddy = TEDDY()\n",
    "        teddy_diff = teddy.compare_proportion_differences()\n",
    "\n",
    "        results.append(statistics.mean([gio_diff, gene_diff, teddy_diff]))\n",
    "    return results"
   ]
  },
  {
   "attachments": {},
   "cell_type": "markdown",
   "metadata": {},
   "source": [
    "Lets make graphs!"
   ]
  },
  {
   "cell_type": "code",
   "execution_count": 7,
   "metadata": {},
   "outputs": [
    {
     "data": {
      "image/png": "[encoded data removed]",
      "text/plain": [
       "<Figure size 432x288 with 1 Axes>"
      ]
     },
     "metadata": {
      "needs_background": "light"
     },
     "output_type": "display_data"
    }
   ],
   "source": [
    "trials = initial_sim()\n",
    "plt.hist(trials,100)\n",
    "plt.show()"
   ]
  },
  {
   "attachments": {},
   "cell_type": "markdown",
   "metadata": {},
   "source": [
    "Now, the actual analysis. Something is only statistically significant if it falls within the 5% margin"
   ]
  },
  {
   "cell_type": "code",
   "execution_count": null,
   "metadata": {},
   "outputs": [],
   "source": [
    "def analyze_initial(our_average_difference):\n",
    "    trials = initial_sim()\n",
    "    percent_greater_than_observed = (sum([1.0 for x in trials if x >= our_average_difference]) / len(trials)) * 100\n",
    "    if percent_greater_than_observed <= 5:\n",
    "        print('Statistically significant. Only ' + str(percent_greater_than_observed) + '% of trials achieved a difference greater than ' + str(our_average_difference))\n",
    "    else:\n",
    "        print('falls within natural error. ' + str(percent_greater_than_observed) + '% of trials achieved a difference greater than ' + str(our_average_difference))\n",
    "\n",
    "def analyze_gender_diff(our_average_gender_proportion_difference):\n",
    "    trials = sim_for_gender_diff()\n",
    "    percent_greater_than_observed = (sum([1.0 for x in trials if x >= our_average_gender_proportion_difference]) / len(trials)) * 100\n",
    "    if percent_greater_than_observed <= 5:\n",
    "        print('Statistically significant. Only ' + str(percent_greater_than_observed) + '% of trials achieved a difference greater than ' + str(our_average_gender_proportion_difference))\n",
    "    else:\n",
    "        print('falls within natural error. ' + str(percent_greater_than_observed) + '% of trials achieved a difference greater than ' + str(our_average_gender_proportion_difference))\n"
   ]
  }
 ],
 "metadata": {
  "kernelspec": {
   "display_name": "Python 3",
   "language": "python",
   "name": "python3"
  },
  "language_info": {
   "codemirror_mode": {
    "name": "ipython",
    "version": 3
   },
   "file_extension": ".py",
   "mimetype": "text/x-python",
   "name": "python",
   "nbconvert_exporter": "python",
   "pygments_lexer": "ipython3",
   "version": "3.9.5"
  },
  "orig_nbformat": 4,
  "vscode": {
   "interpreter": {
    "hash": "c75ba1d2772ea8e26f89048c9ec7118639fcd82f2d8c55a1f21957545149ecc4"
   }
  }
 },
 "nbformat": 4,
 "nbformat_minor": 2
}
