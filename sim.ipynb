{
 "cells": [
  {
   "attachments": {},
   "cell_type": "markdown",
   "metadata": {},
   "source": [
    "Import the necessary modules"
   ]
  },
  {
   "cell_type": "code",
   "execution_count": 18,
   "metadata": {},
   "outputs": [],
   "source": [
    "import random\n",
    "import statistics\n",
    "import matplotlib.pyplot as plt\n"
   ]
  },
  {
   "attachments": {},
   "cell_type": "markdown",
   "metadata": {},
   "source": [
    "Make helper functions"
   ]
  },
  {
   "cell_type": "code",
   "execution_count": 19,
   "metadata": {},
   "outputs": [],
   "source": [
    "def pickedCandy() -> bool:\n",
    "    return random.randint(0, 1) == 1\n",
    "\n",
    "def getProportionAccepted(l:list) -> float:\n",
    "    return (sum(1.0 for element in l if element) / len(l))\n",
    "\n",
    "def getProportionDiff(list1:list, list2:list) -> float:\n",
    "    return getProportionAccepted(list2) - getProportionAccepted(list1)\n"
   ]
  },
  {
   "attachments": {},
   "cell_type": "markdown",
   "metadata": {},
   "source": [
    "Define classes for each person. Wrote a superclass for shared functionality. In this case, Gio, Gene, and Teddy. Each class has the total number of males/females interacted with across the two outfit treatments. Make the constructor initialize a list for each of these groups. For example, if I interacted with 20 males with a crusty fit, the list self.crustyboys should be a list of 20 randomly generated booleans, True if accepted candy, False if declined, with the size corresponding to the number of people interacted with. These classes also have functionality to compare the proportion differences between boys and girls. This method is only called when testing for significance in gender differences\n",
    "\n"
   ]
  },
  {
   "cell_type": "code",
   "execution_count": 20,
   "metadata": {},
   "outputs": [],
   "source": [
    "class PERSON():\n",
    "    def __init__(self, crusty_n_girls, crusty_n_boys, nice_n_girls, nice_n_boys) -> None:\n",
    "        self.CRUSTY_N_GIRLS = crusty_n_girls\n",
    "        self.CRUSTY_N_BOYS = crusty_n_boys\n",
    "        self.NICE_N_GIRLS = nice_n_girls\n",
    "        self.NICE_N_BOYS = nice_n_boys\n",
    "        self.generate_random()\n",
    "\n",
    "    def generate_random(self):\n",
    "        self.crustygirls = [pickedCandy() for a in range(self.CRUSTY_N_GIRLS)]\n",
    "        self.crustyboys = [pickedCandy() for a in range(self.CRUSTY_N_BOYS)]\n",
    "        self.nicegirls = [pickedCandy() for a in range(self.NICE_N_GIRLS)]\n",
    "        self.niceboys = [pickedCandy() for a in range(self.NICE_N_BOYS)]\n",
    "\n",
    "    def simulate_gender_diff(self, trials:int) ->list:\n",
    "        results = []\n",
    "        for i in range(trials):\n",
    "            self.generate_random()\n",
    "            results.append(getProportionDiff(self.crustyboys, self.niceboys) - getProportionDiff(self.crustygirls, self.nicegirls))\n",
    "        return results\n",
    "\n",
    "    def sim_boy_diff(self, trials:int) ->list:\n",
    "        results = []\n",
    "        for i in range(trials):\n",
    "            self.generate_random()\n",
    "            results.append(getProportionDiff(self.crustyboys, self.niceboys))\n",
    "        return results\n",
    "\n",
    "    def sim_girl_diff(self, trials:int) ->list:\n",
    "        results = []\n",
    "        for i in range(trials):\n",
    "            self.generate_random()\n",
    "            results.append(getProportionDiff(self.crustygirls, self.nicegirls))\n",
    "        return results\n",
    "\n",
    "    def simulate_clothing(self, trials:int) ->list:\n",
    "        results = []\n",
    "        for i in range(trials):\n",
    "            self.generate_random()\n",
    "            results.append(getProportionDiff(self.crustyboys + self.crustygirls, self.niceboys + self.nicegirls))\n",
    "        return results\n",
    "\n",
    "    def analyze_trials(self, y, trials:list):\n",
    "        percent_greater_than_observed = (sum([1.0 for x in trials if x >= y]) / len(trials)) * 100\n",
    "        if percent_greater_than_observed <= 5:\n",
    "            print('Statistically significant. Only ' + str(percent_greater_than_observed) + '% of trials achieved a difference greater than ' + str(y))\n",
    "        else:\n",
    "            print('falls within natural error. ' + str(percent_greater_than_observed) + '% of trials achieved a difference greater than ' + str(y))\n",
    "        \n",
    "        plt.hist(trials, 40)\n",
    "        plt.axvline(y, color='k', linestyle='dashed', linewidth=2).set_label(str(percent_greater_than_observed) + '% of trials achieved a difference greater than ' + str(y))\n",
    "        plt.show()\n",
    "\n",
    "class GIO(PERSON):\n",
    "    CRUSTY_N_GIRLS = 26\n",
    "    CRUSTY_N_BOYS = 29\n",
    "    NICE_N_GIRLS = 10\n",
    "    NICE_N_BOYS = 15\n",
    "\n",
    "    def __init__(self) -> None:\n",
    "        PERSON.__init__(self,\n",
    "            GIO.CRUSTY_N_GIRLS,\n",
    "            GIO.CRUSTY_N_BOYS,\n",
    "            GIO.NICE_N_GIRLS,\n",
    "            GIO.NICE_N_BOYS\n",
    "        )\n",
    "\n",
    "class GENE(PERSON):\n",
    "    CRUSTY_N_GIRLS = 14\n",
    "    CRUSTY_N_BOYS = 14\n",
    "    NICE_N_GIRLS = 14\n",
    "    NICE_N_BOYS = 12\n",
    "\n",
    "    def __init__(self) -> None:\n",
    "        PERSON.__init__(self,\n",
    "            GENE.CRUSTY_N_GIRLS,\n",
    "            GENE.CRUSTY_N_BOYS,\n",
    "            GENE.NICE_N_GIRLS,\n",
    "            GENE.NICE_N_BOYS\n",
    "        )\n",
    "\n",
    "class TEDDY(PERSON):\n",
    "    CRUSTY_N_GIRLS = 18\n",
    "    CRUSTY_N_BOYS = 19\n",
    "    NICE_N_GIRLS = 18\n",
    "    NICE_N_BOYS = 22\n",
    "\n",
    "    def __init__(self) -> None:\n",
    "        PERSON.__init__(self,\n",
    "            TEDDY.CRUSTY_N_GIRLS,\n",
    "            TEDDY.CRUSTY_N_BOYS,\n",
    "            TEDDY.NICE_N_GIRLS,\n",
    "            TEDDY.NICE_N_BOYS\n",
    "        )\n",
    "\n"
   ]
  },
  {
   "attachments": {},
   "cell_type": "markdown",
   "metadata": {},
   "source": [
    "Now, I determined the number of trials I would like to do. In other words, the amount of times you want to repeat the component of the simulation"
   ]
  },
  {
   "cell_type": "code",
   "execution_count": 21,
   "metadata": {},
   "outputs": [],
   "source": [
    "TRIALS = 10000"
   ]
  },
  {
   "attachments": {},
   "cell_type": "markdown",
   "metadata": {},
   "source": [
    "Lets initialize an instance of each person."
   ]
  },
  {
   "cell_type": "code",
   "execution_count": 22,
   "metadata": {},
   "outputs": [],
   "source": [
    "gio = GIO()\n",
    "gene = GENE()\n",
    "teddy = TEDDY()"
   ]
  },
  {
   "attachments": {},
   "cell_type": "markdown",
   "metadata": {},
   "source": [
    "Now, we can test whether our findings for each person are of statistical significance. Lets start with gio. The acceptance rate while he was wearing crusty clothes was .53. The acceptance rate while he was wearing nice clothes was .93. That means the difference in proportions was .4"
   ]
  },
  {
   "cell_type": "code",
   "execution_count": 23,
   "metadata": {},
   "outputs": [
    {
     "name": "stdout",
     "output_type": "stream",
     "text": [
      "falls within natural error. 74.3% of trials achieved a difference greater than -0.07\n"
     ]
    },
    {
     "data": {
      "image/png": "[encoded data removed]",
      "text/plain": [
       "<Figure size 432x288 with 1 Axes>"
      ]
     },
     "metadata": {
      "needs_background": "light"
     },
     "output_type": "display_data"
    }
   ],
   "source": [
    "trials = teddy.simulate_clothing(TRIALS)\n",
    "teddy.analyze_trials(-.07, trials)"
   ]
  },
  {
   "attachments": {},
   "cell_type": "markdown",
   "metadata": {},
   "source": [
    "To determine statistical significane of gender, we do the same thing, but for each of us, we get the difference in the difference of proportions etween boys and girls. In this case, the difference in acceptance rate across girls was .62. The difference in acceptance rate across boys was .13. Therefore, there was a bigger margin for girls by .19"
   ]
  },
  {
   "cell_type": "code",
   "execution_count": 24,
   "metadata": {},
   "outputs": [
    {
     "name": "stdout",
     "output_type": "stream",
     "text": [
      "Statistically significant. Only 0.16999999999999998% of trials achieved a difference greater than 0.65\n"
     ]
    },
    {
     "data": {
      "image/png": "[encoded data removed]",
      "text/plain": [
       "<Figure size 432x288 with 1 Axes>"
      ]
     },
     "metadata": {
      "needs_background": "light"
     },
     "output_type": "display_data"
    }
   ],
   "source": [
    "trials = teddy.simulate_gender_diff(TRIALS)\n",
    "teddy.analyze_trials(.65, trials)"
   ]
  },
  {
   "attachments": {},
   "cell_type": "markdown",
   "metadata": {},
   "source": [
    "Teddys data is nuts. Lets see weather the boy difference is significant."
   ]
  },
  {
   "cell_type": "code",
   "execution_count": 25,
   "metadata": {},
   "outputs": [
    {
     "name": "stdout",
     "output_type": "stream",
     "text": [
      "falls within natural error. 99.06% of trials achieved a difference greater than -0.37\n"
     ]
    },
    {
     "data": {
      "image/png": "[encoded data removed]",
      "text/plain": [
       "<Figure size 432x288 with 1 Axes>"
      ]
     },
     "metadata": {
      "needs_background": "light"
     },
     "output_type": "display_data"
    }
   ],
   "source": [
    "trials = teddy.sim_boy_diff(TRIALS)\n",
    "teddy.analyze_trials(-.37, trials)"
   ]
  },
  {
   "attachments": {},
   "cell_type": "markdown",
   "metadata": {},
   "source": [
    "Lets also see if the girl difference is significant"
   ]
  },
  {
   "cell_type": "code",
   "execution_count": 27,
   "metadata": {},
   "outputs": [
    {
     "name": "stdout",
     "output_type": "stream",
     "text": [
      "Statistically significant. Only 3.26% of trials achieved a difference greater than 0.28\n"
     ]
    },
    {
     "data": {
      "image/png": "[encoded data removed]",
      "text/plain": [
       "<Figure size 432x288 with 1 Axes>"
      ]
     },
     "metadata": {
      "needs_background": "light"
     },
     "output_type": "display_data"
    }
   ],
   "source": [
    "trials = teddy.sim_girl_diff(TRIALS)\n",
    "teddy.analyze_trials(.28, trials)"
   ]
  }
 ],
 "metadata": {
  "kernelspec": {
   "display_name": "Python 3",
   "language": "python",
   "name": "python3"
  },
  "language_info": {
   "codemirror_mode": {
    "name": "ipython",
    "version": 3
   },
   "file_extension": ".py",
   "mimetype": "text/x-python",
   "name": "python",
   "nbconvert_exporter": "python",
   "pygments_lexer": "ipython3",
   "version": "3.9.5 (tags/v3.9.5:0a7dcbd, May  3 2021, 17:27:52) [MSC v.1928 64 bit (AMD64)]"
  },
  "orig_nbformat": 4,
  "vscode": {
   "interpreter": {
    "hash": "c75ba1d2772ea8e26f89048c9ec7118639fcd82f2d8c55a1f21957545149ecc4"
   }
  }
 },
 "nbformat": 4,
 "nbformat_minor": 2
}
